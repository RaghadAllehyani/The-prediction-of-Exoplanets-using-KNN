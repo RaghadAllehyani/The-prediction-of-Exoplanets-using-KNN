{
  "nbformat": 4,
  "nbformat_minor": 0,
  "metadata": {
    "colab": {
      "name": "AI Project Code",
      "provenance": [],
      "collapsed_sections": []
    },
    "kernelspec": {
      "display_name": "Python 3",
      "name": "python3"
    },
    "language_info": {
      "name": "python"
    }
  },
  "cells": [
    {
      "cell_type": "code",
      "metadata": {
        "colab": {
          "base_uri": "https://localhost:8080/",
          "height": 1000
        },
        "id": "HQ13qiwGu2m3",
        "outputId": "9a52d56e-fbf3-4cde-c9f6-7b0bc3b7578c"
      },
      "source": [
        "#1\n",
        "#Importing libraries\n",
        "!pip install imblearn\n",
        "import numpy as np\n",
        "import matplotlib.pyplot as plt\n",
        "import pandas as pd\n",
        "#Importing the dataset from google drive\n",
        "from google.colab import drive\n",
        "drive.mount('/content/gdrive')\n",
        "DS = pd.read_csv('gdrive/My Drive/AI LABS/Exoplanets_Dataset.csv')\n",
        "#Shape of the dataset\n",
        "print (\"Dataset Shape: \", DS.shape)\n",
        "#First 5 rows from the dataset\n",
        "print (\"Head of the Dataset: \")\n",
        "print (DS.head())\n",
        "\n",
        "#2\n",
        "#Separating the dataset into attributes and labels\n",
        "attributes = DS.iloc[:, 1:].values\n",
        "label = DS.iloc[:, 0].values\n",
        "\n",
        "#Splitting the dataset into training and testing\n",
        "from sklearn.model_selection import train_test_split\n",
        "attributes_train, attributes_test, label_train, label_test = \\\n",
        "train_test_split(attributes, label, test_size=0.30,random_state = 100)\n",
        "\n",
        "#3\n",
        "#Performing synthetic minority oversampling\n",
        "from imblearn.over_sampling import SMOTE\n",
        "from collections import Counter\n",
        "c = Counter(label_train) \n",
        "print('Before OverSampling: ' , c)\n",
        "s = SMOTE()\n",
        "attributes_train_sm, label_train_sm = \\\n",
        "s.fit_resample(attributes_train, label_train)\n",
        "c = Counter(label_train_sm) \n",
        "print('After OverSampling: ' , c)\n",
        "\n",
        "#4\n",
        "#Training the KNN\n",
        "from sklearn.neighbors import KNeighborsClassifier\n",
        "prediction = KNeighborsClassifier(n_neighbors = 10)\n",
        "prediction.fit(attributes_train_sm, label_train_sm)\n",
        "#Prediction\n",
        "label_pred = prediction.predict(attributes_test)\n",
        "\n",
        "#5\n",
        "#Evaluating \n",
        "from sklearn.metrics import classification_report, confusion_matrix , \\\n",
        "accuracy_score \n",
        "print(\"Confusion Matrix: \")\n",
        "print(confusion_matrix(label_test, label_pred))\n",
        "print(\"Classification Report: \")\n",
        "print(classification_report(label_test, label_pred))\n",
        "#Accuray of the model\n",
        "print(\"Accuracy: \", accuracy_score(label_test, label_pred))\n",
        "\n",
        "#6 \n",
        "#Comparing Error Rate with the K Value\n",
        "error = []\n",
        "#Calculating error for K values between 1 and 20\n",
        "for i in range(1, 20):\n",
        "    knn = KNeighborsClassifier(n_neighbors=i)\n",
        "    knn.fit(attributes_train, label_train)\n",
        "    pred_i = knn.predict(attributes_test)\n",
        "    error.append(np.mean(pred_i != label_test))\n",
        "plt.figure(figsize=(12, 6))\n",
        "plt.plot(range(1, 20), error, color='magenta', linestyle='-.', marker='v',\n",
        "         markerfacecolor='yellow', markersize=10)\n",
        "plt.title('Error Rate K Value')\n",
        "plt.xlabel('K Value')\n",
        "plt.ylabel('Mean Error')    \n"
      ],
      "execution_count": null,
      "outputs": [
        {
          "output_type": "stream",
          "name": "stdout",
          "text": [
            "Requirement already satisfied: imblearn in /usr/local/lib/python3.7/dist-packages (0.0)\n",
            "Requirement already satisfied: imbalanced-learn in /usr/local/lib/python3.7/dist-packages (from imblearn) (0.8.1)\n",
            "Requirement already satisfied: joblib>=0.11 in /usr/local/lib/python3.7/dist-packages (from imbalanced-learn->imblearn) (1.1.0)\n",
            "Requirement already satisfied: scipy>=0.19.1 in /usr/local/lib/python3.7/dist-packages (from imbalanced-learn->imblearn) (1.4.1)\n",
            "Requirement already satisfied: numpy>=1.13.3 in /usr/local/lib/python3.7/dist-packages (from imbalanced-learn->imblearn) (1.19.5)\n",
            "Requirement already satisfied: scikit-learn>=0.24 in /usr/local/lib/python3.7/dist-packages (from imbalanced-learn->imblearn) (1.0.1)\n",
            "Requirement already satisfied: threadpoolctl>=2.0.0 in /usr/local/lib/python3.7/dist-packages (from scikit-learn>=0.24->imbalanced-learn->imblearn) (3.0.0)\n",
            "Drive already mounted at /content/gdrive; to attempt to forcibly remount, call drive.mount(\"/content/gdrive\", force_remount=True).\n",
            "Dataset Shape:  (5087, 3198)\n",
            "Head of the Dataset: \n",
            "   LABEL   FLUX.1   FLUX.2   FLUX.3  ...  FLUX.3194  FLUX.3195  FLUX.3196  FLUX.3197\n",
            "0      2    93.85    83.81    20.10  ...      39.32      61.42       5.08     -39.54\n",
            "1      2   -38.88   -33.83   -58.54  ...     -11.70       6.46      16.00      19.93\n",
            "2      2   532.64   535.92   513.73  ...     -11.80     -28.91     -70.02     -96.67\n",
            "3      2   326.52   347.39   302.35  ...      -8.77     -17.31     -17.35      13.98\n",
            "4      2 -1107.21 -1112.59 -1118.95  ...    -399.71    -384.65    -411.79    -510.54\n",
            "\n",
            "[5 rows x 3198 columns]\n",
            "Before OverSampling:  Counter({1: 3535, 2: 25})\n",
            "After OverSampling:  Counter({1: 3535, 2: 3535})\n",
            "Confusion Matrix: \n",
            "[[1463   52]\n",
            " [   7    5]]\n",
            "Classification Report: \n",
            "              precision    recall  f1-score   support\n",
            "\n",
            "           1       1.00      0.97      0.98      1515\n",
            "           2       0.09      0.42      0.14        12\n",
            "\n",
            "    accuracy                           0.96      1527\n",
            "   macro avg       0.54      0.69      0.56      1527\n",
            "weighted avg       0.99      0.96      0.97      1527\n",
            "\n",
            "Accuracy:  0.9613621480026195\n"
          ]
        },
        {
          "output_type": "execute_result",
          "data": {
            "text/plain": [
              "Text(0, 0.5, 'Mean Error')"
            ]
          },
          "metadata": {},
          "execution_count": 3
        },
        {
          "output_type": "display_data",
          "data": {
            "image/png": "[encoded data removed]",
            "text/plain": [
              "<Figure size 864x432 with 1 Axes>"
            ]
          },
          "metadata": {
            "needs_background": "light"
          }
        }
      ]
    }
  ]
}